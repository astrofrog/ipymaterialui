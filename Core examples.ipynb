{
 "cells": [
  {
   "cell_type": "code",
   "execution_count": 1,
   "metadata": {},
   "outputs": [],
   "source": [
    "import ipymaterialui as mui\n",
    "import ipywidgets as widgets"
   ]
  },
  {
   "cell_type": "code",
   "execution_count": 2,
   "metadata": {},
   "outputs": [],
   "source": [
    "text1 = \"Jupyter\"\n",
    "text2 = \"Jupyter Widgets\"\n",
    "text3 = \"Material UI\"\n",
    "text4 = \"React\"\n",
    "texts = [text1, text2, text3, text4]"
   ]
  },
  {
   "cell_type": "code",
   "execution_count": 3,
   "metadata": {},
   "outputs": [],
   "source": [
    "chip = mui.Chip(label=text1)"
   ]
  },
  {
   "cell_type": "code",
   "execution_count": 4,
   "metadata": {},
   "outputs": [
    {
     "data": {
      "application/vnd.jupyter.widget-view+json": {
       "model_id": "7e2fae08cd4c44bb91a6d1902d47cdb9",
       "version_major": 2,
       "version_minor": 0
      },
      "text/plain": [
       "Chip(label='Jupyter')"
      ]
     },
     "metadata": {},
     "output_type": "display_data"
    }
   ],
   "source": [
    "chip"
   ]
  },
  {
   "cell_type": "code",
   "execution_count": 5,
   "metadata": {},
   "outputs": [
    {
     "data": {
      "application/vnd.jupyter.widget-view+json": {
       "model_id": "29f4fdabbb844bf99108c174dd687448",
       "version_major": 2,
       "version_minor": 0
      },
      "text/plain": [
       "Div(children=(Chip(label='Jupyter'), Chip(label='Jupyter Widgets'), Chip(label='Material UI'), Chip(label='Rea…"
      ]
     },
     "metadata": {},
     "output_type": "display_data"
    }
   ],
   "source": [
    "# the baseclass is just a \n",
    "chips = [mui.Chip(label=text) for text in texts]\n",
    "chips_div = mui.Div(children=chips)\n",
    "chips_div"
   ]
  },
  {
   "cell_type": "code",
   "execution_count": 6,
   "metadata": {},
   "outputs": [
    {
     "data": {
      "application/vnd.jupyter.widget-view+json": {
       "model_id": "199d8d69d79c4e868419d62681f7a6ab",
       "version_major": 2,
       "version_minor": 0
      },
      "text/plain": [
       "VBox(children=(Button(description='Jupyter Widgets'), Output()))"
      ]
     },
     "metadata": {},
     "output_type": "display_data"
    }
   ],
   "source": [
    "out = widgets.Output()\n",
    "b = mui.Button(description=text2)\n",
    "@out.capture()\n",
    "def click(button):\n",
    "    print(text3)\n",
    "b.on_click(click)\n",
    "widgets.VBox([b, out])"
   ]
  },
  {
   "cell_type": "code",
   "execution_count": 7,
   "metadata": {},
   "outputs": [
    {
     "data": {
      "application/vnd.jupyter.widget-view+json": {
       "model_id": "6942fb667e9b44eaba817e64b1f50289",
       "version_major": 2,
       "version_minor": 0
      },
      "text/plain": [
       "VBox(children=(Checkbox(value=False, description='Jupyter'), Checkbox(checked=True, checked_icon=None, descrip…"
      ]
     },
     "metadata": {},
     "output_type": "display_data"
    }
   ],
   "source": [
    "# seems like the checkbox does not support children\n",
    "checkbox_mui = mui.Checkbox(checked=True, description=text4)\n",
    "checkbox_classic = widgets.Checkbox(description=text1)\n",
    "widgets.jslink((checkbox_mui, 'checked'), (checkbox_classic, 'value'))\n",
    "widgets.VBox([checkbox_classic, checkbox_mui])"
   ]
  },
  {
   "cell_type": "code",
   "execution_count": 8,
   "metadata": {},
   "outputs": [
    {
     "data": {
      "application/vnd.jupyter.widget-view+json": {
       "model_id": "4717bb4ef6604e57a260c6e5e811d91d",
       "version_major": 2,
       "version_minor": 0
      },
      "text/plain": [
       "ToggleButton(description='Jupyter Widgets', selected=True)"
      ]
     },
     "metadata": {},
     "output_type": "display_data"
    }
   ],
   "source": [
    "toggle_button = mui.ToggleButton(description=text2, selected=True)\n",
    "widgets.jslink((toggle_button, 'selected'), (checkbox_classic, 'value'))\n",
    "toggle_button"
   ]
  },
  {
   "cell_type": "code",
   "execution_count": 9,
   "metadata": {},
   "outputs": [],
   "source": [
    "menuitems = [\n",
    "    mui.MenuItem(description=text1, value='1'),\n",
    "    mui.MenuItem(description=text2, value='2'),\n",
    "    mui.MenuItem(description=text3, value='3')\n",
    "]\n",
    "menu = mui.Menu(children=menuitems)"
   ]
  },
  {
   "cell_type": "code",
   "execution_count": 10,
   "metadata": {},
   "outputs": [
    {
     "data": {
      "application/vnd.jupyter.widget-view+json": {
       "model_id": "9bf395d17e2f4c4782f4b3e1eb33741c",
       "version_major": 2,
       "version_minor": 0
      },
      "text/plain": [
       "List(children=(ListItem(children=(ListItemText(primary='Jupyter', secondary='Material UI'),), divider=True, me…"
      ]
     },
     "metadata": {},
     "output_type": "display_data"
    }
   ],
   "source": [
    "# Nice looking lists, the 3rd acting like a button\n",
    "list_items = [\n",
    "    mui.ListItem(children=[mui.ListItemText(primary=text1, secondary=text3)], divider=True),\n",
    "    mui.ListItem(children=[mui.ListItemText(primary=text2, secondary=text4)], divider=True),\n",
    "    mui.ListItem(children=[mui.ListItemText(primary=text3, secondary=text1)], divider=True, button=True),\n",
    "    mui.ListItem(children=[mui.ListItemText(primary=text4, secondary=text2)], divider=True)\n",
    "]\n",
    "mui.List(children=list_items)"
   ]
  },
  {
   "cell_type": "code",
   "execution_count": 11,
   "metadata": {},
   "outputs": [
    {
     "data": {
      "application/vnd.jupyter.widget-view+json": {
       "model_id": "c4c1276f3c0844978fff66cc88191376",
       "version_major": 2,
       "version_minor": 0
      },
      "text/plain": [
       "ListItem(button=True, children=(ListItemText(button=True, primary='React', secondary='Jupyter'),), menu=Menu(c…"
      ]
     },
     "metadata": {},
     "output_type": "display_data"
    }
   ],
   "source": [
    "# For the moment only list items can be used for popup menus\n",
    "# This needs a more generic solution?\n",
    "list_item_text = mui.ListItemText(primary=text4, secondary=text1, button=True)\n",
    "list_item = mui.ListItem(children=[list_item_text], button=True, menu=menu)\n",
    "list_item"
   ]
  },
  {
   "cell_type": "code",
   "execution_count": 12,
   "metadata": {},
   "outputs": [],
   "source": [
    "for item in menuitems:\n",
    "    item.click_fix = False\n",
    "for item in menuitems:\n",
    "    item.click_fix = True"
   ]
  },
  {
   "cell_type": "code",
   "execution_count": 13,
   "metadata": {},
   "outputs": [],
   "source": [
    "# icon1 = widgets.Icon.fontawesome('home')\n",
    "# icon2 = widgets.Icon.fontawesome('refresh')\n",
    "# icon3 = widgets.Icon.fontawesome('globe')"
   ]
  },
  {
   "cell_type": "code",
   "execution_count": 14,
   "metadata": {},
   "outputs": [
    {
     "data": {
      "application/vnd.jupyter.widget-view+json": {
       "model_id": "e05ea190f3e040deafa5a4cefe9bc49a",
       "version_major": 2,
       "version_minor": 0
      },
      "text/plain": [
       "ToggleButtonGroup(children=(ToggleButton(description='v1', value=Chip(label='Jupyter')), ToggleButton(descript…"
      ]
     },
     "metadata": {},
     "output_type": "display_data"
    }
   ],
   "source": [
    "# Unlike standard ipywidgets (controls) values can be often be widgets\n",
    "toggle_buttons = [\n",
    "    mui.ToggleButton(description='v1', value=chips[0]),\n",
    "    mui.ToggleButton(description='v2', value=chips[1]),\n",
    "    mui.ToggleButton(description='v3', value=chips[2]),\n",
    "    mui.ToggleButton(description='v4', value=chips[3]),\n",
    "]\n",
    "toggle_button_group = mui.ToggleButtonGroup(\n",
    "    value=[chips[2]],\n",
    "    children=toggle_buttons,\n",
    "    exclusive=False)\n",
    "toggle_button_group"
   ]
  },
  {
   "cell_type": "code",
   "execution_count": 15,
   "metadata": {},
   "outputs": [
    {
     "data": {
      "application/vnd.jupyter.widget-view+json": {
       "model_id": "a7eaccdfd26d4c7baf28ad12ede90c78",
       "version_major": 2,
       "version_minor": 0
      },
      "text/plain": [
       "Div()"
      ]
     },
     "metadata": {},
     "output_type": "display_data"
    }
   ],
   "source": [
    "# these values can be jslinked, to create dynamic layout easy\n",
    "div = mui.Div()\n",
    "widgets.jslink((toggle_button_group, 'value'), (div, 'children'))\n",
    "div"
   ]
  },
  {
   "cell_type": "code",
   "execution_count": 16,
   "metadata": {},
   "outputs": [],
   "source": [
    "div.children = [chips[2]]"
   ]
  },
  {
   "cell_type": "code",
   "execution_count": 17,
   "metadata": {},
   "outputs": [
    {
     "data": {
      "application/vnd.jupyter.widget-view+json": {
       "model_id": "7e0a67f3f3f842509022936b849e2474",
       "version_major": 2,
       "version_minor": 0
      },
      "text/plain": [
       "ToggleButtonGroup(children=(ToggleButton(description='v1', value=Chip(label='Jupyter')), ToggleButton(descript…"
      ]
     },
     "metadata": {},
     "output_type": "display_data"
    }
   ],
   "source": [
    "# similar for an exclusive toggle button\n",
    "toggle_buttons = [\n",
    "    mui.ToggleButton(description='v1', value=chips[0]),\n",
    "    mui.ToggleButton(description='v2', value=chips[1]),\n",
    "    mui.ToggleButton(description='v3', value=chips[2]),\n",
    "    mui.ToggleButton(description='v4', value=chips[3]),\n",
    "]\n",
    "toggle_button_group = mui.ToggleButtonGroup(\n",
    "    value=chips[2],\n",
    "    children=toggle_buttons,\n",
    "    exclusive=True)\n",
    "toggle_button_group"
   ]
  },
  {
   "cell_type": "code",
   "execution_count": 18,
   "metadata": {},
   "outputs": [
    {
     "data": {
      "application/vnd.jupyter.widget-view+json": {
       "model_id": "d91ff2f267f248bfb9f3f8a2a1336847",
       "version_major": 2,
       "version_minor": 0
      },
      "text/plain": [
       "Div()"
      ]
     },
     "metadata": {},
     "output_type": "display_data"
    }
   ],
   "source": [
    "# here we use the convenience attribute 'child'\n",
    "div = mui.Div()\n",
    "widgets.jslink((toggle_button_group, 'value'), (div, 'child'))\n",
    "div"
   ]
  },
  {
   "cell_type": "code",
   "execution_count": 19,
   "metadata": {},
   "outputs": [
    {
     "data": {
      "application/vnd.jupyter.widget-view+json": {
       "model_id": "898d2b72922040f0b91d72fe6491f317",
       "version_major": 2,
       "version_minor": 0
      },
      "text/plain": [
       "Select(children=(MenuItem(description='Jupyter', menu=None, value=Chip(label='Jupyter')), MenuItem(description…"
      ]
     },
     "metadata": {},
     "output_type": "display_data"
    }
   ],
   "source": [
    "# Most controls, like select come without a label\n",
    "menu_items = [\n",
    "    mui.MenuItem(description=text1, value=chips[0]),\n",
    "    mui.MenuItem(description=text2, value=chips[1]),\n",
    "    mui.MenuItem(description=text3, value=chips[2])\n",
    "]\n",
    "# No selection is equivalent to '' (idea: use None for Python and undefined in js)\n",
    "select = mui.Select(value='', children=menu_items, multiple=False)\n",
    "select"
   ]
  },
  {
   "cell_type": "code",
   "execution_count": 20,
   "metadata": {},
   "outputs": [
    {
     "data": {
      "application/vnd.jupyter.widget-view+json": {
       "model_id": "861469dc737d47a1a5be1efc9acbb3d4",
       "version_major": 2,
       "version_minor": 0
      },
      "text/plain": [
       "FormControl(children=(InputLabel(description='Text value'), Select(children=(MenuItem(description='Jupyter', m…"
      ]
     },
     "metadata": {},
     "output_type": "display_data"
    }
   ],
   "source": [
    "# Using it in combination with InputLabel and FormControl\n",
    "input_label = mui.InputLabel(description='Text value', placeholder='lala')\n",
    "# style is a dict with css key/values\n",
    "form_control = mui.FormControl(children=[input_label, select], style={'width': '198px'})\n",
    "form_control"
   ]
  },
  {
   "cell_type": "code",
   "execution_count": 21,
   "metadata": {},
   "outputs": [
    {
     "data": {
      "application/vnd.jupyter.widget-view+json": {
       "model_id": "e2fea55a9869497abeda1396891d603e",
       "version_major": 2,
       "version_minor": 0
      },
      "text/plain": [
       "FormControl(children=(InputLabel(description='Selection'), Select(children=(MenuItem(description='Jupyter', me…"
      ]
     },
     "metadata": {},
     "output_type": "display_data"
    }
   ],
   "source": [
    "# Select can also be used to select multiple values\n",
    "# values can be heterogeneous, ints, floats, strings, or widgets are supported\n",
    "menu_items = [\n",
    "    mui.MenuItem(description=text1, value=0),\n",
    "    mui.MenuItem(description=text2, value='1'),\n",
    "    mui.MenuItem(description=text3, value=3.14)\n",
    "]\n",
    "select_multiple = mui.Select(value=['1', 3.14], children=menu_items, multiple=True, style={'width': '248px'})\n",
    "menu = mui.Menu(children=menuitems)\n",
    "input_label = mui.InputLabel(description='Selection')\n",
    "form_control = mui.FormControl(children=[input_label, select_multiple])\n",
    "form_control"
   ]
  },
  {
   "cell_type": "code",
   "execution_count": 22,
   "metadata": {},
   "outputs": [],
   "source": [
    "select_multiple.value = []\n",
    "input_label.description = 'New selection'"
   ]
  },
  {
   "cell_type": "code",
   "execution_count": 23,
   "metadata": {},
   "outputs": [
    {
     "data": {
      "application/vnd.jupyter.widget-view+json": {
       "model_id": "e500ad735fab4d30a92fee2b8c4108cf",
       "version_major": 2,
       "version_minor": 0
      },
      "text/plain": [
       "TextField(helper_text=None, label='Name', placeholder='e.g. Maarten Breddels')"
      ]
     },
     "metadata": {},
     "output_type": "display_data"
    }
   ],
   "source": [
    "text_field = mui.TextField(placeholder='e.g. Maarten Breddels', label='Name')\n",
    "text_field"
   ]
  },
  {
   "cell_type": "code",
   "execution_count": 24,
   "metadata": {},
   "outputs": [
    {
     "data": {
      "application/vnd.jupyter.widget-view+json": {
       "model_id": "ad07b55bdb5a43f9b971b7f7d4d2f83a",
       "version_major": 2,
       "version_minor": 0
      },
      "text/plain": [
       "Tabs(children=(Tab(label='Tab: Jupyter', value=Chip(label='Jupyter')), Tab(label='Tab: Jupyter Widgets', value…"
      ]
     },
     "metadata": {},
     "output_type": "display_data"
    }
   ],
   "source": [
    "# Tabs/Tab in MaterialUI are only the 'header' of tabs, use the .value together with \n",
    "# jslink and a Div widget to implement a real tab\n",
    "tabs = mui.Tabs(children=[mui.Tab(label='Tab: ' +chip.label, value=chip) for chip in chips], value=chips[2])\n",
    "tabs"
   ]
  },
  {
   "cell_type": "code",
   "execution_count": 25,
   "metadata": {},
   "outputs": [
    {
     "data": {
      "application/vnd.jupyter.widget-view+json": {
       "model_id": "0050c5a53e624247989eacec9fcabd79",
       "version_major": 2,
       "version_minor": 0
      },
      "text/plain": [
       "Div()"
      ]
     },
     "metadata": {},
     "output_type": "display_data"
    }
   ],
   "source": [
    "# instead of setting up a Div object, and linking the child or children, there is this shortcut\n",
    "mui.divjslink(tabs, 'value')"
   ]
  },
  {
   "cell_type": "code",
   "execution_count": 26,
   "metadata": {},
   "outputs": [
    {
     "data": {
      "application/vnd.jupyter.widget-view+json": {
       "model_id": "7a9636c590fb4bd3b0aabf81e93c3e6b",
       "version_major": 2,
       "version_minor": 0
      },
      "text/plain": [
       "Div(children=(Tabs(children=(Tab(label='Tab: Jupyter', value=Div(content='Jupyter')), Tab(label='Tab: Jupyter …"
      ]
     },
     "metadata": {},
     "output_type": "display_data"
    }
   ],
   "source": [
    "# putting this together with some Div placeholders\n",
    "divs = [mui.Div(content=text) for text in texts]\n",
    "tabs = mui.Tabs(children=[mui.Tab(label='Tab: ' +text, value=div) for div, text in zip(divs, texts)], value=divs[1])\n",
    "div = mui.divjslink(tabs, 'value')\n",
    "mui.div(tabs, div)"
   ]
  },
  {
   "cell_type": "code",
   "execution_count": 27,
   "metadata": {},
   "outputs": [],
   "source": [
    "# again, styling with style dict\n",
    "for k, color in enumerate('red green blue orange'.split()):\n",
    "    divs[k].style = {'color': color}\n",
    "#     tabs.children[k].style = {'backgroundColor': color}"
   ]
  },
  {
   "cell_type": "code",
   "execution_count": 28,
   "metadata": {},
   "outputs": [
    {
     "data": {
      "application/vnd.jupyter.widget-view+json": {
       "model_id": "eafb8c5866144bb09351d0b93eb42813",
       "version_major": 2,
       "version_minor": 0
      },
      "text/plain": [
       "Switch()"
      ]
     },
     "metadata": {},
     "output_type": "display_data"
    }
   ],
   "source": [
    "switch = mui.Switch()\n",
    "switch"
   ]
  },
  {
   "cell_type": "code",
   "execution_count": 29,
   "metadata": {},
   "outputs": [],
   "source": [
    "switch.checked"
   ]
  },
  {
   "cell_type": "code",
   "execution_count": 30,
   "metadata": {},
   "outputs": [],
   "source": [
    "switch.checked = False"
   ]
  },
  {
   "cell_type": "code",
   "execution_count": 31,
   "metadata": {},
   "outputs": [
    {
     "data": {
      "application/vnd.jupyter.widget-view+json": {
       "model_id": "f864f50e4a7742988394bbc91d220707",
       "version_major": 2,
       "version_minor": 0
      },
      "text/plain": [
       "FormControlLabel(control=Switch(checked=False), label='Multiple selection')"
      ]
     },
     "metadata": {},
     "output_type": "display_data"
    }
   ],
   "source": [
    "switch_form = mui.FormControlLabel(control=switch, label='Multiple selection')\n",
    "switch_form"
   ]
  },
  {
   "cell_type": "code",
   "execution_count": null,
   "metadata": {},
   "outputs": [],
   "source": []
  },
  {
   "cell_type": "code",
   "execution_count": 32,
   "metadata": {},
   "outputs": [
    {
     "data": {
      "application/vnd.jupyter.widget-view+json": {
       "model_id": "659cd32ae3db45a5b3c3933d5fe05e3e",
       "version_major": 2,
       "version_minor": 0
      },
      "text/plain": [
       "FormControl(children=(InputLabel(description='Selection'), Select(children=(MenuItem(child=FormControlLabel(co…"
      ]
     },
     "metadata": {},
     "output_type": "display_data"
    }
   ],
   "source": [
    "# Select can also be used to select multiple values\n",
    "# values can be heterogeneous, ints, floats, strings, or widgets are supported\n",
    "menu_items = [\n",
    "    mui.MenuItem(child=switch_form, button=False, click_fix=True),\n",
    "    mui.MenuItem(description=text1, value=0),\n",
    "    mui.MenuItem(description=text2, value='1'),\n",
    "    mui.MenuItem(description=text3, value=3.14)\n",
    "]\n",
    "select_multiple = mui.Select(value=['1', 3.14], children=menu_items, multiple=True, style={'width': '248px'})\n",
    "menu = mui.Menu(children=menu_items)\n",
    "input_label = mui.InputLabel(description='Selection')\n",
    "form_control = mui.FormControl(children=[input_label, select_multiple])\n",
    "form_control"
   ]
  },
  {
   "cell_type": "code",
   "execution_count": 33,
   "metadata": {},
   "outputs": [],
   "source": [
    "menuitems = [\n",
    "    mui.MenuItem(child=switch_form),\n",
    "    mui.MenuItem(description=text1, value='1'),\n",
    "    mui.MenuItem(description=text2, value='2'),\n",
    "    mui.MenuItem(description=text3, value='3')\n",
    "]\n",
    "menu = mui.Menu(children=menuitems)"
   ]
  },
  {
   "cell_type": "code",
   "execution_count": 34,
   "metadata": {},
   "outputs": [
    {
     "data": {
      "application/vnd.jupyter.widget-view+json": {
       "model_id": "213e6cd539f94f04baf7d86e38ad1889",
       "version_major": 2,
       "version_minor": 0
      },
      "text/plain": [
       "ListItem(button=True, children=(ListItemText(button=True, primary='React', secondary='Jupyter'),), menu=Menu(c…"
      ]
     },
     "metadata": {},
     "output_type": "display_data"
    }
   ],
   "source": [
    "# For the moment only list items can be used for popup menus\n",
    "# This needs a more generic solution?\n",
    "list_item_text = mui.ListItemText(primary=text4, secondary=text1, button=True)\n",
    "list_item = mui.ListItem(children=[list_item_text], button=True, menu=menu)\n",
    "list_item"
   ]
  },
  {
   "cell_type": "code",
   "execution_count": null,
   "metadata": {},
   "outputs": [],
   "source": []
  }
 ],
 "metadata": {
  "kernelspec": {
   "display_name": "Python 3",
   "language": "python",
   "name": "python3"
  },
  "language_info": {
   "codemirror_mode": {
    "name": "ipython",
    "version": 3
   },
   "file_extension": ".py",
   "mimetype": "text/x-python",
   "name": "python",
   "nbconvert_exporter": "python",
   "pygments_lexer": "ipython3",
   "version": "3.6.4"
  }
 },
 "nbformat": 4,
 "nbformat_minor": 2
}
