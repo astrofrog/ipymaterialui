{
 "cells": [
  {
   "cell_type": "code",
   "execution_count": 1,
   "metadata": {},
   "outputs": [],
   "source": [
    "import ipymaterialui as mui\n",
    "import ipywidgets as widgets"
   ]
  },
  {
   "cell_type": "code",
   "execution_count": 2,
   "metadata": {},
   "outputs": [],
   "source": [
    "text1 = \"Jupyter\"\n",
    "text2 = \"Jupyter Widgets\"\n",
    "text3 = \"Material UI\"\n",
    "text4 = \"React\"\n",
    "texts = [text1, text2, text3, text4]"
   ]
  },
  {
   "cell_type": "code",
   "execution_count": 3,
   "metadata": {},
   "outputs": [],
   "source": [
    "chip = mui.Chip(label=text1)"
   ]
  },
  {
   "cell_type": "code",
   "execution_count": 4,
   "metadata": {},
   "outputs": [
    {
     "data": {
      "application/vnd.jupyter.widget-view+json": {
       "model_id": "e48d6eafd1534cfdac0107caa0f975de",
       "version_major": 2,
       "version_minor": 0
      },
      "text/plain": [
       "Chip(label='Jupyter')"
      ]
     },
     "metadata": {},
     "output_type": "display_data"
    }
   ],
   "source": [
    "chip"
   ]
  },
  {
   "cell_type": "code",
   "execution_count": 5,
   "metadata": {},
   "outputs": [
    {
     "data": {
      "application/vnd.jupyter.widget-view+json": {
       "model_id": "7d92bb38e8304d238eb5b4eb1f658cb4",
       "version_major": 2,
       "version_minor": 0
      },
      "text/plain": [
       "Div(children=(Chip(label='Jupyter'), Chip(label='Jupyter Widgets'), Chip(label='Material UI'), Chip(label='Rea…"
      ]
     },
     "metadata": {},
     "output_type": "display_data"
    }
   ],
   "source": [
    "# the baseclass is just a \n",
    "chips = [mui.Chip(label=text) for text in texts]\n",
    "chips_div = mui.Div(children=chips)\n",
    "chips_div"
   ]
  },
  {
   "cell_type": "code",
   "execution_count": 6,
   "metadata": {},
   "outputs": [
    {
     "data": {
      "application/vnd.jupyter.widget-view+json": {
       "model_id": "fe61df543deb4fdfb70f300dea3af408",
       "version_major": 2,
       "version_minor": 0
      },
      "text/plain": [
       "VBox(children=(Button(description='Jupyter Widgets'), Output()))"
      ]
     },
     "metadata": {},
     "output_type": "display_data"
    }
   ],
   "source": [
    "out = widgets.Output()\n",
    "b = mui.Button(description=text2)\n",
    "@out.capture()\n",
    "def click(button):\n",
    "    print(text3)\n",
    "b.on_click(click)\n",
    "widgets.VBox([b, out])"
   ]
  },
  {
   "cell_type": "code",
   "execution_count": 7,
   "metadata": {},
   "outputs": [
    {
     "data": {
      "application/vnd.jupyter.widget-view+json": {
       "model_id": "22c75f514ade43bd936626b0782e1f29",
       "version_major": 2,
       "version_minor": 0
      },
      "text/plain": [
       "VBox(children=(Checkbox(value=False, description='Jupyter'), Checkbox(checked=True, checked_icon=None, descrip…"
      ]
     },
     "metadata": {},
     "output_type": "display_data"
    }
   ],
   "source": [
    "# seems like the checkbox does not support children\n",
    "checkbox_mui = mui.Checkbox(checked=True, description=text4)\n",
    "checkbox_classic = widgets.Checkbox(description=text1)\n",
    "widgets.jslink((checkbox_mui, 'checked'), (checkbox_classic, 'value'))\n",
    "widgets.VBox([checkbox_classic, checkbox_mui])"
   ]
  },
  {
   "cell_type": "code",
   "execution_count": 8,
   "metadata": {},
   "outputs": [
    {
     "data": {
      "application/vnd.jupyter.widget-view+json": {
       "model_id": "e183b7613e024464b302c44462e7e57b",
       "version_major": 2,
       "version_minor": 0
      },
      "text/plain": [
       "ToggleButton(description='Jupyter Widgets', selected=True)"
      ]
     },
     "metadata": {},
     "output_type": "display_data"
    }
   ],
   "source": [
    "toggle_button = mui.ToggleButton(description=text2, selected=True)\n",
    "widgets.jslink((toggle_button, 'selected'), (checkbox_classic, 'value'))\n",
    "toggle_button"
   ]
  },
  {
   "cell_type": "code",
   "execution_count": 9,
   "metadata": {},
   "outputs": [],
   "source": [
    "menuitems = [\n",
    "    mui.MenuItem(description=text1, value='1'),\n",
    "    mui.MenuItem(description=text2, value='2'),\n",
    "    mui.MenuItem(description=text3, value='3')\n",
    "]\n",
    "menu = mui.Menu(children=menuitems)"
   ]
  },
  {
   "cell_type": "code",
   "execution_count": 10,
   "metadata": {},
   "outputs": [
    {
     "data": {
      "application/vnd.jupyter.widget-view+json": {
       "model_id": "0d508d63a4674452ba42aba72ddc0302",
       "version_major": 2,
       "version_minor": 0
      },
      "text/plain": [
       "List(children=(ListItem(children=(ListItemText(primary='Jupyter', secondary='Material UI'),), divider=True, me…"
      ]
     },
     "metadata": {},
     "output_type": "display_data"
    }
   ],
   "source": [
    "# Nice looking lists, the 3rd acting like a button\n",
    "list_items = [\n",
    "    mui.ListItem(children=[mui.ListItemText(primary=text1, secondary=text3)], divider=True),\n",
    "    mui.ListItem(children=[mui.ListItemText(primary=text2, secondary=text4)], divider=True),\n",
    "    mui.ListItem(children=[mui.ListItemText(primary=text3, secondary=text1)], divider=True, button=True),\n",
    "    mui.ListItem(children=[mui.ListItemText(primary=text4, secondary=text2)], divider=True)\n",
    "]\n",
    "mui.List(children=list_items)"
   ]
  },
  {
   "cell_type": "code",
   "execution_count": 11,
   "metadata": {},
   "outputs": [
    {
     "data": {
      "application/vnd.jupyter.widget-view+json": {
       "model_id": "ad4b4f29160e4ed7b08c968224b49607",
       "version_major": 2,
       "version_minor": 0
      },
      "text/plain": [
       "ListItem(button=True, children=(ListItemText(button=True, primary='React', secondary='Jupyter'),), menu=Menu(c…"
      ]
     },
     "metadata": {},
     "output_type": "display_data"
    }
   ],
   "source": [
    "# For the moment only list items can be used for popup menus\n",
    "# This needs a more generic solution?\n",
    "list_item_text = mui.ListItemText(primary=text4, secondary=text1, button=True)\n",
    "list_item = mui.ListItem(children=[list_item_text], button=True, menu=menu)\n",
    "list_item"
   ]
  },
  {
   "cell_type": "code",
   "execution_count": 12,
   "metadata": {},
   "outputs": [],
   "source": [
    "for item in menuitems:\n",
    "    item.click_fix = False\n",
    "for item in menuitems:\n",
    "    item.click_fix = True"
   ]
  },
  {
   "cell_type": "code",
   "execution_count": 13,
   "metadata": {},
   "outputs": [],
   "source": [
    "# icon1 = widgets.Icon.fontawesome('home')\n",
    "# icon2 = widgets.Icon.fontawesome('refresh')\n",
    "# icon3 = widgets.Icon.fontawesome('globe')"
   ]
  },
  {
   "cell_type": "code",
   "execution_count": 14,
   "metadata": {},
   "outputs": [
    {
     "data": {
      "application/vnd.jupyter.widget-view+json": {
       "model_id": "e3191d05eb8a48b596c1fe53ff345ed7",
       "version_major": 2,
       "version_minor": 0
      },
      "text/plain": [
       "ToggleButtonGroup(children=(ToggleButton(description='v1', value=Chip(label='Jupyter')), ToggleButton(descript…"
      ]
     },
     "metadata": {},
     "output_type": "display_data"
    }
   ],
   "source": [
    "# Unlike standard ipywidgets (controls) values can be often be widgets\n",
    "toggle_buttons = [\n",
    "    mui.ToggleButton(description='v1', value=chips[0]),\n",
    "    mui.ToggleButton(description='v2', value=chips[1]),\n",
    "    mui.ToggleButton(description='v3', value=chips[2]),\n",
    "    mui.ToggleButton(description='v4', value=chips[3]),\n",
    "]\n",
    "toggle_button_group = mui.ToggleButtonGroup(\n",
    "    value=[chips[2]],\n",
    "    children=toggle_buttons,\n",
    "    exclusive=False)\n",
    "toggle_button_group"
   ]
  },
  {
   "cell_type": "code",
   "execution_count": 15,
   "metadata": {},
   "outputs": [
    {
     "data": {
      "application/vnd.jupyter.widget-view+json": {
       "model_id": "d6c990ed364044c3b0bd82fb8b57faf6",
       "version_major": 2,
       "version_minor": 0
      },
      "text/plain": [
       "Div()"
      ]
     },
     "metadata": {},
     "output_type": "display_data"
    }
   ],
   "source": [
    "# these values can be jslinked, to create dynamic layout easy\n",
    "div = mui.Div()\n",
    "widgets.jslink((toggle_button_group, 'value'), (div, 'children'))\n",
    "div"
   ]
  },
  {
   "cell_type": "code",
   "execution_count": 16,
   "metadata": {},
   "outputs": [],
   "source": [
    "div.children = [chips[2]]"
   ]
  },
  {
   "cell_type": "code",
   "execution_count": 17,
   "metadata": {},
   "outputs": [
    {
     "data": {
      "application/vnd.jupyter.widget-view+json": {
       "model_id": "9d42264265a14ef0b4d13429b834b139",
       "version_major": 2,
       "version_minor": 0
      },
      "text/plain": [
       "ToggleButtonGroup(children=(ToggleButton(description='v1', value=Chip(label='Jupyter')), ToggleButton(descript…"
      ]
     },
     "metadata": {},
     "output_type": "display_data"
    }
   ],
   "source": [
    "# similar for an exclusive toggle button\n",
    "toggle_buttons = [\n",
    "    mui.ToggleButton(description='v1', value=chips[0]),\n",
    "    mui.ToggleButton(description='v2', value=chips[1]),\n",
    "    mui.ToggleButton(description='v3', value=chips[2]),\n",
    "    mui.ToggleButton(description='v4', value=chips[3]),\n",
    "]\n",
    "toggle_button_group = mui.ToggleButtonGroup(\n",
    "    value=chips[2],\n",
    "    children=toggle_buttons,\n",
    "    exclusive=True)\n",
    "toggle_button_group"
   ]
  },
  {
   "cell_type": "code",
   "execution_count": 18,
   "metadata": {},
   "outputs": [
    {
     "data": {
      "application/vnd.jupyter.widget-view+json": {
       "model_id": "c39453c2d3d9437e99921a8ca88d0d38",
       "version_major": 2,
       "version_minor": 0
      },
      "text/plain": [
       "Div()"
      ]
     },
     "metadata": {},
     "output_type": "display_data"
    }
   ],
   "source": [
    "# here we use the convenience attribute 'child'\n",
    "div = mui.Div()\n",
    "widgets.jslink((toggle_button_group, 'value'), (div, 'child'))\n",
    "div"
   ]
  },
  {
   "cell_type": "code",
   "execution_count": 19,
   "metadata": {},
   "outputs": [
    {
     "data": {
      "application/vnd.jupyter.widget-view+json": {
       "model_id": "24bd06f05c4f420ba38785329aa93a09",
       "version_major": 2,
       "version_minor": 0
      },
      "text/plain": [
       "Select(children=(MenuItem(description='Jupyter', menu=None, value=Chip(label='Jupyter')), MenuItem(description…"
      ]
     },
     "metadata": {},
     "output_type": "display_data"
    }
   ],
   "source": [
    "# Most controls, like select come without a label\n",
    "menu_items = [\n",
    "    mui.MenuItem(description=text1, value=chips[0]),\n",
    "    mui.MenuItem(description=text2, value=chips[1]),\n",
    "    mui.MenuItem(description=text3, value=chips[2])\n",
    "]\n",
    "# No selection is equivalent to '' (idea: use None for Python and undefined in js)\n",
    "select = mui.Select(value='', children=menu_items, multiple=False)\n",
    "select"
   ]
  },
  {
   "cell_type": "code",
   "execution_count": 20,
   "metadata": {},
   "outputs": [
    {
     "data": {
      "application/vnd.jupyter.widget-view+json": {
       "model_id": "cdf5db18b163456a935a1d23dcad5bb6",
       "version_major": 2,
       "version_minor": 0
      },
      "text/plain": [
       "FormControl(children=(InputLabel(description='Text value'), Select(children=(MenuItem(description='Jupyter', m…"
      ]
     },
     "metadata": {},
     "output_type": "display_data"
    }
   ],
   "source": [
    "# Using it in combination with InputLabel and FormControl\n",
    "input_label = mui.InputLabel(description='Text value', placeholder='lala')\n",
    "# style is a dict with css key/values\n",
    "form_control = mui.FormControl(children=[input_label, select], style={'width': '198px'})\n",
    "form_control"
   ]
  },
  {
   "cell_type": "code",
   "execution_count": 21,
   "metadata": {},
   "outputs": [
    {
     "data": {
      "application/vnd.jupyter.widget-view+json": {
       "model_id": "e926288965b246c4ad95187b6e1f701d",
       "version_major": 2,
       "version_minor": 0
      },
      "text/plain": [
       "FormControl(children=(InputLabel(description='Selection'), Select(children=(MenuItem(description='Jupyter', me…"
      ]
     },
     "metadata": {},
     "output_type": "display_data"
    }
   ],
   "source": [
    "# Select can also be used to select multiple values\n",
    "# values can be heterogeneous, ints, floats, strings, or widgets are supported\n",
    "menu_items = [\n",
    "    mui.MenuItem(description=text1, value=0),\n",
    "    mui.MenuItem(description=text2, value='1'),\n",
    "    mui.MenuItem(description=text3, value=3.14)\n",
    "]\n",
    "select_multiple = mui.Select(value=['1', 3.14], children=menu_items, multiple=True, style={'width': '248px'})\n",
    "menu = mui.Menu(children=menuitems)\n",
    "input_label = mui.InputLabel(description='Selection')\n",
    "form_control = mui.FormControl(children=[input_label, select_multiple])\n",
    "form_control"
   ]
  },
  {
   "cell_type": "code",
   "execution_count": 22,
   "metadata": {},
   "outputs": [],
   "source": [
    "select_multiple.value = []\n",
    "input_label.description = 'New selection'"
   ]
  },
  {
   "cell_type": "code",
   "execution_count": 23,
   "metadata": {},
   "outputs": [
    {
     "data": {
      "application/vnd.jupyter.widget-view+json": {
       "model_id": "e3f417201c4d4a849f747a82ca5ff7d3",
       "version_major": 2,
       "version_minor": 0
      },
      "text/plain": [
       "TextField(helper_text=None, label='Name', placeholder='e.g. Maarten Breddels')"
      ]
     },
     "metadata": {},
     "output_type": "display_data"
    }
   ],
   "source": [
    "text_field = mui.TextField(placeholder='e.g. Maarten Breddels', label='Name')\n",
    "text_field"
   ]
  },
  {
   "cell_type": "code",
   "execution_count": 24,
   "metadata": {},
   "outputs": [
    {
     "data": {
      "application/vnd.jupyter.widget-view+json": {
       "model_id": "9652de4504ed4112b289dde76bba986f",
       "version_major": 2,
       "version_minor": 0
      },
      "text/plain": [
       "Tabs(children=(Tab(label='Tab: Jupyter', value=Chip(label='Jupyter')), Tab(label='Tab: Jupyter Widgets', value…"
      ]
     },
     "metadata": {},
     "output_type": "display_data"
    }
   ],
   "source": [
    "# Tabs/Tab in MaterialUI are only the 'header' of tabs, use the .value together with \n",
    "# jslink and a Div widget to implement a real tab\n",
    "tabs = mui.Tabs(children=[mui.Tab(label='Tab: ' +chip.label, value=chip) for chip in chips], value=chips[2])\n",
    "tabs"
   ]
  },
  {
   "cell_type": "code",
   "execution_count": 25,
   "metadata": {},
   "outputs": [
    {
     "data": {
      "application/vnd.jupyter.widget-view+json": {
       "model_id": "a2e9ceccb82c45e282f00a1b9ce42017",
       "version_major": 2,
       "version_minor": 0
      },
      "text/plain": [
       "Div()"
      ]
     },
     "metadata": {},
     "output_type": "display_data"
    }
   ],
   "source": [
    "# instead of setting up a Div object, and linking the child or children, there is this shortcut\n",
    "mui.divjslink(tabs, 'value')"
   ]
  },
  {
   "cell_type": "code",
   "execution_count": 26,
   "metadata": {},
   "outputs": [
    {
     "data": {
      "application/vnd.jupyter.widget-view+json": {
       "model_id": "fbf48881cd9941e1b805454cff8fb616",
       "version_major": 2,
       "version_minor": 0
      },
      "text/plain": [
       "Div(children=(Tabs(children=(Tab(label='Tab: Jupyter', value=Div(content='Jupyter')), Tab(label='Tab: Jupyter …"
      ]
     },
     "metadata": {},
     "output_type": "display_data"
    }
   ],
   "source": [
    "# putting this together with some Div placeholders\n",
    "divs = [mui.Div(content=text) for text in texts]\n",
    "tabs = mui.Tabs(children=[mui.Tab(label='Tab: ' +text, value=div) for div, text in zip(divs, texts)], value=divs[1])\n",
    "div = mui.divjslink(tabs, 'value')\n",
    "mui.div(tabs, div)"
   ]
  },
  {
   "cell_type": "code",
   "execution_count": 27,
   "metadata": {},
   "outputs": [],
   "source": [
    "# again, styling with style dict\n",
    "for k, color in enumerate('red green blue orange'.split()):\n",
    "    divs[k].style = {'color': color}\n",
    "#     tabs.children[k].style = {'backgroundColor': color}"
   ]
  },
  {
   "cell_type": "code",
   "execution_count": 28,
   "metadata": {},
   "outputs": [
    {
     "data": {
      "application/vnd.jupyter.widget-view+json": {
       "model_id": "39fd5f1daa4b4360ae8c40453fb29e4d",
       "version_major": 2,
       "version_minor": 0
      },
      "text/plain": [
       "Switch()"
      ]
     },
     "metadata": {},
     "output_type": "display_data"
    }
   ],
   "source": [
    "switch = mui.Switch()\n",
    "switch"
   ]
  },
  {
   "cell_type": "code",
   "execution_count": 29,
   "metadata": {},
   "outputs": [],
   "source": [
    "switch.checked"
   ]
  },
  {
   "cell_type": "code",
   "execution_count": 30,
   "metadata": {},
   "outputs": [],
   "source": [
    "switch.checked = False"
   ]
  },
  {
   "cell_type": "code",
   "execution_count": 31,
   "metadata": {},
   "outputs": [
    {
     "data": {
      "application/vnd.jupyter.widget-view+json": {
       "model_id": "afb7c3e52c6943f29956dcdad1a154ee",
       "version_major": 2,
       "version_minor": 0
      },
      "text/plain": [
       "FormControlLabel(control=Switch(checked=False), label='Multiple selection')"
      ]
     },
     "metadata": {},
     "output_type": "display_data"
    }
   ],
   "source": [
    "switch_form = mui.FormControlLabel(control=switch, label='Multiple selection')\n",
    "switch_form"
   ]
  },
  {
   "cell_type": "code",
   "execution_count": null,
   "metadata": {},
   "outputs": [],
   "source": []
  },
  {
   "cell_type": "code",
   "execution_count": 32,
   "metadata": {},
   "outputs": [
    {
     "data": {
      "application/vnd.jupyter.widget-view+json": {
       "model_id": "f90c6fcc43b04c408a842b327603672e",
       "version_major": 2,
       "version_minor": 0
      },
      "text/plain": [
       "FormControl(children=(InputLabel(description='Selection'), Select(children=(MenuItem(child=FormControlLabel(co…"
      ]
     },
     "metadata": {},
     "output_type": "display_data"
    }
   ],
   "source": [
    "# Select can also be used to select multiple values\n",
    "# values can be heterogeneous, ints, floats, strings, or widgets are supported\n",
    "menu_items = [\n",
    "    mui.MenuItem(child=switch_form, button=False, click_fix=True),\n",
    "    mui.MenuItem(description=text1, value=0),\n",
    "    mui.MenuItem(description=text2, value='1'),\n",
    "    mui.MenuItem(description=text3, value=3.14)\n",
    "]\n",
    "select_multiple = mui.Select(value=['1', 3.14], children=menu_items, multiple=True, style={'width': '248px'})\n",
    "menu = mui.Menu(children=menu_items)\n",
    "input_label = mui.InputLabel(description='Selection')\n",
    "form_control = mui.FormControl(children=[input_label, select_multiple])\n",
    "form_control"
   ]
  },
  {
   "cell_type": "code",
   "execution_count": 33,
   "metadata": {},
   "outputs": [],
   "source": [
    "menuitems = [\n",
    "    mui.MenuItem(child=switch_form),\n",
    "    mui.MenuItem(description=text1, value='1'),\n",
    "    mui.MenuItem(description=text2, value='2'),\n",
    "    mui.MenuItem(description=text3, value='3')\n",
    "]\n",
    "menu = mui.Menu(children=menuitems)"
   ]
  },
  {
   "cell_type": "code",
   "execution_count": 34,
   "metadata": {},
   "outputs": [
    {
     "data": {
      "application/vnd.jupyter.widget-view+json": {
       "model_id": "debdc7bee93e4d969596429a82724796",
       "version_major": 2,
       "version_minor": 0
      },
      "text/plain": [
       "ListItem(button=True, children=(ListItemText(button=True, primary='React', secondary='Jupyter'),), menu=Menu(c…"
      ]
     },
     "metadata": {},
     "output_type": "display_data"
    }
   ],
   "source": [
    "# For the moment only list items can be used for popup menus\n",
    "# This needs a more generic solution?\n",
    "list_item_text = mui.ListItemText(primary=text4, secondary=text1, button=True)\n",
    "list_item = mui.ListItem(children=[list_item_text], button=True, menu=menu)\n",
    "list_item"
   ]
  },
  {
   "cell_type": "code",
   "execution_count": null,
   "metadata": {},
   "outputs": [],
   "source": []
  }
 ],
 "metadata": {
  "kernelspec": {
   "display_name": "Python 3",
   "language": "python",
   "name": "python3"
  },
  "language_info": {
   "codemirror_mode": {
    "name": "ipython",
    "version": 3
   },
   "file_extension": ".py",
   "mimetype": "text/x-python",
   "name": "python",
   "nbconvert_exporter": "python",
   "pygments_lexer": "ipython3",
   "version": "3.6.4"
  }
 },
 "nbformat": 4,
 "nbformat_minor": 2
}
