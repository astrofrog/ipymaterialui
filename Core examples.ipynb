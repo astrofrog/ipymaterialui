{
 "cells": [
  {
   "cell_type": "code",
   "execution_count": null,
   "metadata": {},
   "outputs": [],
   "source": [
    "import ipymaterialui as mui\n",
    "import ipywidgets as widgets"
   ]
  },
  {
   "cell_type": "code",
   "execution_count": null,
   "metadata": {},
   "outputs": [],
   "source": [
    "text1 = \"Jupyter\"\n",
    "text2 = \"Jupyter Widgets\"\n",
    "text3 = \"Material UI\"\n",
    "text4 = \"React\""
   ]
  },
  {
   "cell_type": "code",
   "execution_count": null,
   "metadata": {},
   "outputs": [],
   "source": [
    "c = mui.Chip(label=text1)\n",
    "c"
   ]
  },
  {
   "cell_type": "code",
   "execution_count": null,
   "metadata": {},
   "outputs": [],
   "source": [
    "out = widgets.Output()\n",
    "b = mui.Button(description=text2)\n",
    "@out.capture()\n",
    "def click(button):\n",
    "    print(text3)\n",
    "b.on_click(click)\n",
    "widgets.VBox([b, out])"
   ]
  },
  {
   "cell_type": "code",
   "execution_count": null,
   "metadata": {},
   "outputs": [],
   "source": [
    "# seems like the checkbox does not support children\n",
    "checkbox_mui = mui.Checkbox(checked=True, description=text4)\n",
    "checkbox_classic = widgets.Checkbox(description=text1)\n",
    "widgets.jslink((checkbox_mui, 'checked'), (checkbox_classic, 'value'))\n",
    "widgets.VBox([checkbox_classic, checkbox_mui])"
   ]
  },
  {
   "cell_type": "code",
   "execution_count": null,
   "metadata": {},
   "outputs": [],
   "source": [
    "t = mui.ToggleButton(description=text2)"
   ]
  },
  {
   "cell_type": "code",
   "execution_count": null,
   "metadata": {},
   "outputs": [],
   "source": [
    "t"
   ]
  },
  {
   "cell_type": "code",
   "execution_count": null,
   "metadata": {},
   "outputs": [],
   "source": [
    "menuitems = [\n",
    "    mui.MenuItem(description=text1),\n",
    "    mui.MenuItem(description=text2),\n",
    "    mui.MenuItem(description=text3)\n",
    "]\n",
    "menu = mui.Menu(children=menuitems)"
   ]
  },
  {
   "cell_type": "code",
   "execution_count": null,
   "metadata": {},
   "outputs": [],
   "source": [
    "# ftm list items can be used for popup menus\n",
    "# needs a nicer solution, MenuDecorator?\n",
    "list_item_text = mui.ListItemText(primary=text4, secondary=text1, button=True)\n",
    "list_item = mui.ListItem(children=[list_item_text], button=True, menu=menu)\n",
    "list_item"
   ]
  },
  {
   "cell_type": "code",
   "execution_count": null,
   "metadata": {},
   "outputs": [],
   "source": [
    "icon1 = widgets.Icon.fontawesome('home')\n",
    "icon2 = widgets.Icon.fontawesome('refresh')\n",
    "icon3 = widgets.Icon.fontawesome('globe')"
   ]
  },
  {
   "cell_type": "code",
   "execution_count": null,
   "metadata": {},
   "outputs": [],
   "source": [
    "# instead of icon, children should support DOMWidgets\n",
    "t1 = mui.ToggleButton(icon=icon1, value='1')\n",
    "t2 = mui.ToggleButton(icon=icon2, value='2')\n",
    "t3 = mui.ToggleButton(icon=icon3, value='3')\n",
    "tg = mui.ToggleButtonGroup(children=[t1, t2, t3])\n",
    "tg"
   ]
  },
  {
   "cell_type": "code",
   "execution_count": null,
   "metadata": {},
   "outputs": [],
   "source": [
    "list_items = [\n",
    "    mui.ListItem(children=[mui.ListItemText(primary=text1, secondary=text3)], divider=True),\n",
    "    mui.ListItem(children=[mui.ListItemText(primary=text2, secondary=text4)], divider=True),\n",
    "    mui.ListItem(children=[mui.ListItemText(primary=text3, secondary=text1)], divider=True),\n",
    "    mui.ListItem(children=[mui.ListItemText(primary=text4, secondary=text2)], divider=True)\n",
    "]\n",
    "mui.List(children=list_items)"
   ]
  },
  {
   "cell_type": "code",
   "execution_count": null,
   "metadata": {},
   "outputs": [],
   "source": []
  }
 ],
 "metadata": {
  "kernelspec": {
   "display_name": "Python 3",
   "language": "python",
   "name": "python3"
  },
  "language_info": {
   "codemirror_mode": {
    "name": "ipython",
    "version": 3
   },
   "file_extension": ".py",
   "mimetype": "text/x-python",
   "name": "python",
   "nbconvert_exporter": "python",
   "pygments_lexer": "ipython3",
   "version": "3.6.4"
  }
 },
 "nbformat": 4,
 "nbformat_minor": 2
}
